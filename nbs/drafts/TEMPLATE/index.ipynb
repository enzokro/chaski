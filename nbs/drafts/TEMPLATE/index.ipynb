{
 "cells": [
  {
   "cell_type": "raw",
   "id": "e8f87d29",
   "metadata": {},
   "source": [
    "---\n",
    "title: \"TITLE HERE\"\n",
    "author: \"enzokro\"\n",
    "date: \"\"\n",
    "toc: true \n",
    "badges: true\n",
    "categories: [TMP]\n",
    "jupyter: python3\n",
    "---"
   ]
  },
  {
   "cell_type": "markdown",
   "id": "656c7d2f",
   "metadata": {},
   "source": [
    "> Placeholder snippet"
   ]
  },
  {
   "cell_type": "markdown",
   "id": "ce5d51fc",
   "metadata": {},
   "source": [
    "# Introduction"
   ]
  },
  {
   "cell_type": "code",
   "execution_count": null,
   "id": "8778ed11",
   "metadata": {},
   "outputs": [],
   "source": [
    "# lorem ipsum"
   ]
  }
 ],
 "metadata": {
  "kernelspec": {
   "display_name": "Python 3 (ipykernel)",
   "language": "python",
   "name": "python3"
  }
 },
 "nbformat": 4,
 "nbformat_minor": 5
}
