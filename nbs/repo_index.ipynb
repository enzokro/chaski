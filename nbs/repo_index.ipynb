{
 "cells": [
  {
   "cell_type": "raw",
   "metadata": {},
   "source": [
    "---\n",
    "title: \"About\"\n",
    "image: favicon.png\n",
    "---"
   ]
  },
  {
   "cell_type": "markdown",
   "metadata": {},
   "source": [
    "# Enzo's blog"
   ]
  },
  {
   "cell_type": "markdown",
   "metadata": {},
   "source": [
    "> Applied ML for RF, speech, and video processing. Some DSP and random thoughts. "
   ]
  },
  {
   "cell_type": "markdown",
   "metadata": {},
   "source": [
    "![profile picture; Diffusion generated Neo-Andean city skyline](favicon.png \"Profile Picture\")"
   ]
  }
 ],
 "metadata": {
  "kernelspec": {
   "display_name": "Python 3 (ipykernel)",
   "language": "python",
   "name": "python3"
  }
 },
 "nbformat": 4,
 "nbformat_minor": 4
}
