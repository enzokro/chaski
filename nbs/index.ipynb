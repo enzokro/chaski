{
 "cells": [
  {
   "cell_type": "raw",
   "metadata": {},
   "source": [
    "---\n",
    "title: \"Enzo's blog\"\n",
    "image: favicon.png\n",
    "about:\n",
    "  template: jolla\n",
    "  links:\n",
    "    - icon: github\n",
    "      text: github\n",
    "      href: \"https://github.com/enzokro/chaski\"\n",
    "toc: false\n",
    "sidebar: false\n",
    "---"
   ]
  },
  {
   "cell_type": "markdown",
   "metadata": {},
   "source": [
    "#### Posts on applied ML and DSP for RF, NLP, and image processing.  \n",
    "#### Stray thoughts. "
   ]
  }
 ],
 "metadata": {
  "kernelspec": {
   "display_name": "Python 3.8.9 64-bit",
   "language": "python",
   "name": "python3"
  }
 },
 "nbformat": 4,
 "nbformat_minor": 4
}
