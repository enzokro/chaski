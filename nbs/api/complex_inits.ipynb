{
 "cells": [
  {
   "cell_type": "markdown",
   "id": "8c79a367",
   "metadata": {},
   "source": [
    "# Complex weight inits for neural networks"
   ]
  },
  {
   "cell_type": "code",
   "execution_count": null,
   "id": "40724b9f",
   "metadata": {},
   "outputs": [],
   "source": [
    "#|default_exp complex_init"
   ]
  },
  {
   "cell_type": "code",
   "execution_count": null,
   "id": "bbf89f5a",
   "metadata": {},
   "outputs": [],
   "source": [
    "#|export\n",
    "import numpy as np\n",
    "import torch\n",
    "import torch.nn as nn\n",
    "from torch.nn.parameter import Parameter\n",
    "from numpy.random import default_rng"
   ]
  },
  {
   "cell_type": "markdown",
   "id": "c21e779b",
   "metadata": {},
   "source": [
    "For reference, here is a commented computation of fan_in and fan_out. It's mainly helpful for convolutional layers where we have to take into account the receptive field size.  \n",
    "\n",
    "The source code is from pytorch's [nn.init](https://pytorch.org/docs/stable/_modules/torch/nn/init.html#xavier_uniform_)  \n",
    "\n",
    "The main refactor was to use a shape directly, instead of a tensor.  "
   ]
  },
  {
   "cell_type": "code",
   "execution_count": null,
   "id": "6f1113f8",
   "metadata": {},
   "outputs": [],
   "source": [
    "#|export \n",
    "def _calculate_fan_in_and_fan_out_from_shape(shape):\n",
    "    \"\"\"Calculates incoming and outgoing connections for weight initializations.\n",
    "    \n",
    "    PyTorch weight tensors are of the format:\n",
    "        `[nout, nin, *kernels]`\n",
    "    \n",
    "    In the case of linear, feed-forward weights we only have the first two dimensions:\n",
    "        `[nout, nin]`\n",
    "        \n",
    "    In the case n-D convolutional weight, we gain one kernel size per dimension.\n",
    "    For example in a 2D conv layer with a (3, 3) kernel the weight shape is:\n",
    "        `[nout, nin, 3, 3]`\n",
    "        \n",
    "    Finally, note how the output features are first. This is the reverse of the module API calls:\n",
    "        `nn.Linear(nin, nout)`\n",
    "        `nn.Conv2d(nin, nout)`\n",
    "    Here we follow the module API convention, assuming input features are before output features.\n",
    "    \"\"\"\n",
    "    if len(shape) < 2:\n",
    "        raise ValueError(\"Fan in and fan out can not be computed for tensor with fewer than 2 dimensions\")\n",
    "    \n",
    "    # the number of input and output features\n",
    "    num_input_fmaps, num_output_fmaps = shape[:2]\n",
    "    \n",
    "    # start with a receptive field size of one.\n",
    "    # if this is a linear layer, each neuron only \"sees\" itself\n",
    "    receptive_field_size = 1\n",
    "    \n",
    "    # here we handle convolutional kernels\n",
    "    if len(shape) > 2:\n",
    "        # Notes from torch code:\n",
    "        ## math.prod is not always available, accumulate the product manually\n",
    "        ## we could use functools.reduce but that is not supported by TorchScript\n",
    "        \n",
    "        # the total receptive field is the product of the kernel sizes\n",
    "        for s in shape[2:]:\n",
    "            receptive_field_size *= s\n",
    "            \n",
    "    # scale the input/output features by the receptive field \n",
    "    fan_in = num_input_fmaps * receptive_field_size\n",
    "    fan_out = num_output_fmaps * receptive_field_size\n",
    "\n",
    "    return fan_in, fan_out"
   ]
  },
  {
   "cell_type": "code",
   "execution_count": null,
   "id": "42d5c666",
   "metadata": {},
   "outputs": [],
   "source": [
    "#|export\n",
    "def get_complex_inits(shape, seed=None, criterion='he', dtype='float32'):\n",
    "    \"\"\"Initializes complex-valued Rayleigh weights with the given `shape`.\n",
    "    \"\"\"\n",
    "    # create the random number generator\n",
    "    rand = default_rng(seed or torch.initial_seed())\n",
    "    \n",
    "    # find the number of input and output connections\n",
    "    fan_in, fan_out = _calculate_fan_in_and_fan_out_from_shape(shape)\n",
    "    \n",
    "    # check we got a valid criteria\n",
    "    criterion = str(criterion).lower()\n",
    "    assert criterion in ('he', 'glorot'), \"Criterion must be a string value in [he, glorot]\"\n",
    "    # compute sigma that meets the variance criteria\n",
    "    factor = fan_in if criterion == 'he' else fan_in + fan_out\n",
    "    sigma = 1. / np.sqrt(factor)\n",
    "    \n",
    "    # draw the scaled rayleigh magnitudes\n",
    "    magnitude = rand.rayleigh(scale=sigma, size=shape)\n",
    "    # draw random uniform angles\n",
    "    phase = rand.uniform(low=-np.pi, high=np.pi, size=magnitude.shape)\n",
    "    \n",
    "    # split magnitudes into real and imaginary components\n",
    "    real = (magnitude * np.cos(phase)).astype(dtype)\n",
    "    imag = (magnitude * np.sin(phase)).astype(dtype)\n",
    "    \n",
    "    # return learnable float tensors\n",
    "    real, imag = map(lambda o: Parameter(torch.from_numpy(o)), [real,imag])\n",
    "    return real, imag"
   ]
  },
  {
   "cell_type": "markdown",
   "id": "3b794844",
   "metadata": {},
   "source": [
    "Creating complex weights for a few layers"
   ]
  },
  {
   "cell_type": "code",
   "execution_count": null,
   "id": "59b5d17b",
   "metadata": {},
   "outputs": [],
   "source": [
    "# re-create out earlier example with a single layer\n",
    "fan_in, fan_out = 100, 50\n",
    "criterion = 'he'\n",
    "\n",
    "# get the complex-valued weights\n",
    "real_weights, imag_weights = get_complex_inits((fan_in, fan_out), criterion=criterion)\n",
    "\n",
    "# create a pair of linear layers with our weight\n",
    "dnn_real = torch.nn.Linear(fan_in, fan_out)\n",
    "dnn_imag = torch.nn.Linear(fan_in, fan_out)\n",
    "\n",
    "# set the complex weight\n",
    "dnn_real.weight = real_weights\n",
    "dnn_imag.weight = imag_weights"
   ]
  },
  {
   "cell_type": "code",
   "execution_count": null,
   "id": "99c8db3a",
   "metadata": {},
   "outputs": [],
   "source": [
    "# check if the weights are rayleigh distributed\n",
    "rw = dnn_real.weight.detach().numpy().ravel()\n",
    "iw = dnn_imag.weight.detach().numpy().ravel()\n",
    "linear_mag = np.sqrt(rw**2 + iw**2)"
   ]
  },
  {
   "cell_type": "markdown",
   "id": "76908160",
   "metadata": {},
   "source": [
    "Find the matching theoretical Rayleigh pdf for comparison"
   ]
  },
  {
   "cell_type": "code",
   "execution_count": null,
   "id": "d836be73",
   "metadata": {},
   "outputs": [],
   "source": [
    "# define the Rayleigh PDF\n",
    "def rayleigh_pdf(x, sigma):\n",
    "    \"Evaluates the Rayleigh PDF at a given point `x`.\"\n",
    "    p = (x / sigma**2) * np.exp(-x**2 / (2*sigma**2)) # see if you can match this code to the equation above\n",
    "    return p\n",
    "\n",
    "# get the PDF for comparison\n",
    "sigma_he = 1. / np.sqrt(fan_in) # NOTE: we used He criteria\n",
    "points = np.linspace(0, linear_mag.max(), 1000)\n",
    "ray_pdf = rayleigh_pdf(points, sigma=sigma_he)"
   ]
  },
  {
   "cell_type": "code",
   "execution_count": null,
   "id": "43f991be",
   "metadata": {},
   "outputs": [],
   "source": [
    "import matplotlib.pyplot as plt"
   ]
  },
  {
   "cell_type": "code",
   "execution_count": null,
   "id": "7b902311",
   "metadata": {},
   "outputs": [
    {
     "data": {
      "image/png": "[encoded data removed]",
      "text/plain": [
       "<Figure size 432x288 with 1 Axes>"
      ]
     },
     "metadata": {
      "needs_background": "light"
     },
     "output_type": "display_data"
    }
   ],
   "source": [
    "plt.figure()\n",
    "plt.title('Histogram of Complex Linear Weights')\n",
    "plt.xlabel('Sample Value')\n",
    "plt.ylabel('Density')\n",
    "plt.hist(linear_mag, bins=35, density=True);\n",
    "plt.plot(points, ray_pdf, c='r', linewidth=3);"
   ]
  },
  {
   "cell_type": "markdown",
   "id": "ff331e59",
   "metadata": {},
   "source": [
    "Finally, check that the vectors are randomly pointing everywhere."
   ]
  },
  {
   "cell_type": "code",
   "execution_count": null,
   "id": "60c39403",
   "metadata": {},
   "outputs": [],
   "source": [
    "# indexes for the first 500 random weights\n",
    "chosen_samples = range(500)\n",
    "\n",
    "# compute the angles\n",
    "x_subset = rw[chosen_samples]\n",
    "y_subset = iw[chosen_samples]\n",
    "phases = np.arctan2(y_subset, x_subset)\n",
    "angles = phases * 180 / np.pi\n",
    "\n",
    "# plot these first complex weights\n",
    "plt.figure()\n",
    "for idx in chosen_samples:\n",
    "\n",
    "    # index into phase and magnitude variables\n",
    "    angle, mag = angles[idx], linear_mag[idx]\n",
    "\n",
    "    # plot them starting from the origin\n",
    "    plt.polar([0,angle], [0,mag], marker='o')"
   ]
  }
 ],
 "metadata": {
  "kernelspec": {
   "display_name": "Python 3 (ipykernel)",
   "language": "python",
   "name": "python3"
  }
 },
 "nbformat": 4,
 "nbformat_minor": 5
}
