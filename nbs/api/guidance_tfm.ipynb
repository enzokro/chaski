{
 "cells": [
  {
   "cell_type": "code",
   "execution_count": null,
   "id": "2e5b9b16",
   "metadata": {},
   "outputs": [],
   "source": [
    "Guidance Transformation class to normalize and schedule Classifier-free Guidance."
   ]
  },
  {
   "cell_type": "code",
   "execution_count": null,
   "id": "dbfa63cf",
   "metadata": {},
   "outputs": [],
   "source": [
    "#| default_exp guidance_tfm"
   ]
  },
  {
   "cell_type": "code",
   "execution_count": null,
   "id": "ccfbb534",
   "metadata": {},
   "outputs": [],
   "source": [
    "#| export\n",
    "\n",
    "'''Code for blog post:\n",
    "    https://enzokro.dev/blog/posts/2022-11-15-guidance-expts-1\n",
    "    \n",
    "TODO:\n",
    "    - Add cosine scheduler helpers.\n",
    "'''\n",
    "\n",
    "import torch\n",
    "\n",
    "class GuidanceTfm:\n",
    "    \"Baseline Classifier-free Guidance for Difussion.\"\n",
    "    name = \"CFGuidance\"\n",
    "    def __init__(self, schedules, *args, **kwargs):\n",
    "        self.schedules = schedules\n",
    "        \n",
    "    def encode(self, u, t, idx=None):\n",
    "        \"Applies guidance on `u` and `t` with optional pre/post processing.\"\n",
    "        self.pre_proc(u, t, idx)\n",
    "        self.guide(u, t, idx)\n",
    "        self.post_proc(u, t, idx)\n",
    "        return self.pred\n",
    "    \n",
    "    def guide(self, u, t, idx=None):\n",
    "        \"Mixes latents `u` and `t` based on guidance schedule for `g`.\"\n",
    "        self.pred = u + (self.scheduler('g', idx) * (t - u))\n",
    "\n",
    "    def pre_proc (self, u, t, idx=None): pass\n",
    "    def post_proc(self, u, t, idx=None): pass\n",
    "    \n",
    "    def scheduler(self, name, idx):\n",
    "        \"Gets the scheduled value for parameter `name` at timestep `idx`.\"\n",
    "        return self.schedules.get(name)[idx]\n",
    "    \n",
    "    \n",
    "class BaseNormGuidance(GuidanceTfm):\n",
    "    \"Scales the noise prediction by its overall norm.\"\n",
    "    name = \"BaseNormGuidance\"\n",
    "    def post_proc(self, u, t, idx=None):\n",
    "        self.pred = self.pred * (torch.linalg.norm(u) / torch.linalg.norm(self.pred))\n",
    "        \n",
    "        \n",
    "class TNormGuidance(GuidanceTfm):\n",
    "    \"Scales the latent mix of `t - u`\"\n",
    "    name = \"TNormGuidance\"\n",
    "    def guide(self, u, t, idx=None):\n",
    "        self.pred = u + (self.scheduler('g', idx) * (t - u)) / torch.linalg.norm(t - u) * torch.linalg.norm(u)\n",
    "        \n",
    "        \n",
    "class FullNormGuidance(TNormGuidance, BaseNormGuidance):\n",
    "    \"Applies both Base and T-Norm on the noise prediction.\"\n",
    "    name = \"FullNormGuidance\"\n",
    "    pass"
   ]
  }
 ],
 "metadata": {
  "kernelspec": {
   "display_name": "Python 3 (ipykernel)",
   "language": "python",
   "name": "python3"
  }
 },
 "nbformat": 4,
 "nbformat_minor": 5
}
