{
 "cells": [
  {
   "cell_type": "markdown",
   "id": "3f9b98de",
   "metadata": {},
   "source": [
    "# Guidance Transformation class to normalize and schedule Classifier-free Guidance."
   ]
  },
  {
   "cell_type": "code",
   "execution_count": null,
   "id": "74da4aff",
   "metadata": {},
   "outputs": [],
   "source": [
    "#|default_exp guidance_tfm"
   ]
  },
  {
   "cell_type": "markdown",
   "id": "96042418",
   "metadata": {},
   "source": [
    "The following classes implement:  \n",
    "\n",
    "1. Baseline Classifier-free Guidance  \n",
    "2. Scaling the prediction by the ratio of norms  \n",
    "3. Scaling the `t - u` update by its norms  \n",
    "4. Scaling both 2. + 3."
   ]
  },
  {
   "cell_type": "code",
   "execution_count": null,
   "id": "13e0d322",
   "metadata": {},
   "outputs": [],
   "source": [
    "#|export\n",
    "\n",
    "'''Code for blog post:\n",
    "    https://enzokro.dev/blog/posts/2022-11-15-guidance-expts-1\n",
    "'''\n",
    "import math\n",
    "import torch\n",
    "\n",
    "class GuidanceTfm:\n",
    "    \"Baseline Classifier-free Guidance for Difussion.\"\n",
    "    name = \"CFGuidance\"\n",
    "    def __init__(self, schedules, *args, **kwargs):\n",
    "        self.schedules = schedules\n",
    "        \n",
    "    def encode(self, u, t, idx=None):\n",
    "        \"Applies guidance on `u` and `t` with optional pre/post processing.\"\n",
    "        self.pre_proc(u, t, idx)\n",
    "        self.guide(u, t, idx)\n",
    "        self.post_proc(u, t, idx)\n",
    "        return self.pred\n",
    "    \n",
    "    def guide(self, u, t, idx=None):\n",
    "        \"Mixes latents `u` and `t` based on guidance schedule for `g`.\"\n",
    "        self.pred = u + (self.scheduler('g', idx) * (t - u))\n",
    "\n",
    "    def pre_proc (self, u, t, idx=None): pass\n",
    "    def post_proc(self, u, t, idx=None): pass\n",
    "    \n",
    "    def scheduler(self, name, idx):\n",
    "        \"Gets the scheduled value for parameter `name` at timestep `idx`.\"\n",
    "        return self.schedules.get(name)[idx]\n",
    "    \n",
    "    \n",
    "class BaseNormGuidance(GuidanceTfm):\n",
    "    \"Scales the noise prediction by its overall norm.\"\n",
    "    name = \"BaseNormGuidance\"\n",
    "    def post_proc(self, u, t, idx=None):\n",
    "        self.pred = self.pred * (torch.linalg.norm(u) / torch.linalg.norm(self.pred))\n",
    "        \n",
    "        \n",
    "class TNormGuidance(GuidanceTfm):\n",
    "    \"Scales the latent mix of `t - u`\"\n",
    "    name = \"TNormGuidance\"\n",
    "    def guide(self, u, t, idx=None):\n",
    "        self.pred = u + (self.scheduler('g', idx) * (t - u)) / torch.linalg.norm(t - u) * torch.linalg.norm(u)\n",
    "        \n",
    "        \n",
    "class FullNormGuidance(TNormGuidance, BaseNormGuidance):\n",
    "    \"Applies both Base and T-Norm on the noise prediction.\"\n",
    "    name = \"FullNormGuidance\"\n",
    "    pass"
   ]
  },
  {
   "cell_type": "markdown",
   "id": "adfa7c2c",
   "metadata": {},
   "source": [
    "The section below defines the cosine scheduler helpers.   \n",
    "\n",
    "The bottom of the notebook has examples of creating schedules, and using them to initialize a `GuidanceTfm` class. "
   ]
  },
  {
   "cell_type": "code",
   "execution_count": null,
   "id": "a21d95a2",
   "metadata": {},
   "outputs": [],
   "source": [
    "#|export\n",
    "\n",
    "def get_cos_sched(num_steps: int = 50,\n",
    "                  max_val: float = 7.5,\n",
    "                  min_val: float = 0.15,\n",
    "                  num_cycles: float = 0.5,\n",
    "                  num_warmup_steps: int = 0,\n",
    "                  warmup_init_val: float = 0.,\n",
    "                  k_decay:float = 1.,\n",
    "                  cycle_mul: float = 1.,\n",
    "                  cycle_decay:float = 1.,\n",
    "                  cycle_limit = 1.) -> list:\n",
    "    '''Creates a cosine schedule based on the given parameters.\n",
    "    \n",
    "    Args:\n",
    "        num_steps: Number of total steps in the schedules. \n",
    "        max_val: The maximum value in the schedule. \n",
    "        min_val: The minimum number in the schedule. \n",
    "        num_cycles: How many full cosine schedules to sweep. By default, 0.5.\n",
    "        num_warmup_steps: Over how many steps to warmup.  \n",
    "        cycle_mul: Param for timm scheduler.\n",
    "        cycle_decay: Param for timm schedulers.\n",
    "        cycle_limit: Param for timm schedulers.\n",
    "        k_decay: Param for timm schedulers.  \n",
    "        \n",
    "    The cycle_* and k_decay `timm` parmeters are described in better detail here:\n",
    "        https://timm.fast.ai/SGDR#CosineLRScheduler\n",
    "    These args offer a lot of powerful flexibility in guiding the cosine scheduler.\n",
    "        TODO: experiment with these settings for diffusion.  \n",
    "        \n",
    "    NOTE: cycle_* parameters might not work as intended, since we are dealing with \"one\" epoch.\n",
    "        TODO: investigate\n",
    "    \n",
    "    Based on a combo of HuggingFace and timm schedulers:\n",
    "        https://github.com/rwightman/pytorch-image-models/blob/main/timm/scheduler/cosine_lr.py\n",
    "        https://github.com/huggingface/transformers/blob/v4.24.0/src/transformers/optimization.py#L104\n",
    "    '''\n",
    "\n",
    "    def cos_sched_helper(current_step):\n",
    "        \"Helper to compute cosine values.\"\n",
    "        \n",
    "        # get the warmup value\n",
    "        if current_step < num_warmup_steps:\n",
    "            init_offset = float(current_step * (max_val - warmup_init_val)) / float(max(1, num_warmup_steps))\n",
    "            return warmup_init_val + init_offset\n",
    "        \n",
    "        # else get the regular scheduled values\n",
    "        else:\n",
    "\n",
    "            if cycle_mul != 1:\n",
    "                i = math.floor(math.log(1 - current_step / num_steps * (1 - cycle_mul), cycle_mul))\n",
    "                t_i = cycle_mul ** i * num_steps\n",
    "                t_curr = current_step - (1 - cycle_mul ** i) / (1 - cycle_mul) * num_steps\n",
    "            else:\n",
    "                i = current_step // num_steps #\n",
    "                t_i = num_steps\n",
    "                t_curr = current_step - (num_steps * i)\n",
    "\n",
    "            # find the scaled maximum value based on cycle_decay\n",
    "            gamma = cycle_decay ** i\n",
    "            scaled_max = max_val * gamma\n",
    "            scaled_mag = 0.5 * (scaled_max - min_val)\n",
    "            \n",
    "            # find completion offset based on current step and k-decay\n",
    "            t_curr = (t_curr - num_warmup_steps)\n",
    "            t_i = max(1, num_steps - num_warmup_steps)\n",
    "            scaled_progress = (t_curr ** k_decay) / (t_i ** k_decay)\n",
    "            \n",
    "            if i < cycle_limit:\n",
    "                cos_val = (1 + math.cos(math.pi * 2 * num_cycles * scaled_progress))\n",
    "                val = min_val + scaled_mag * cos_val\n",
    "            else:\n",
    "                val = min_val\n",
    "\n",
    "            return val\n",
    "\n",
    "    # get the actual schedule value\n",
    "    vals = [cos_sched_helper(i) for i in range(num_steps)]\n",
    "    return vals\n"
   ]
  },
  {
   "cell_type": "code",
   "execution_count": null,
   "id": "c0378196",
   "metadata": {},
   "outputs": [],
   "source": [
    "import matplotlib.pyplot as plt"
   ]
  },
  {
   "cell_type": "code",
   "execution_count": null,
   "id": "a16e3132",
   "metadata": {},
   "outputs": [],
   "source": [
    "# creating a few cosine schedules\n",
    "\n",
    "# parameters from the blog post\n",
    "max_val = 7.5\n",
    "min_val = 0.15\n",
    "num_steps = 50\n",
    "num_warmup_steps = 5\n",
    "\n",
    "\n",
    "# baseline cosine schedule\n",
    "cos_params = {\n",
    "    'max_val':           max_val,\n",
    "    'num_steps':         num_steps,\n",
    "    'min_val':           min_val,\n",
    "    'num_warmup_steps':  0,\n",
    "}\n",
    "\n",
    "# cosine schedule with warmup \n",
    "warmup_cos_params = {\n",
    "    'max_val':           max_val,\n",
    "    'num_steps':         num_steps,\n",
    "    'min_val':           min_val,\n",
    "    'warmup_init_val':   min_val + 1., # to show we can offset the warmup relative to min\n",
    "    'num_warmup_steps':  num_warmup_steps,\n",
    "}\n",
    "\n",
    "# cosine schedule with small values for T-Norm guidance\n",
    "t_scale_params = {\n",
    "    'max_val':         0.25,\n",
    "    'num_steps':       num_steps,\n",
    "    'min_val':         0.05,\n",
    "}\n",
    "\n",
    "# create the schedules\n",
    "cos_g = get_cos_sched(**cos_params)\n",
    "warmup_g = get_cos_sched(**warmup_cos_params)\n",
    "TNorm_g = get_cos_sched(**t_scale_params)"
   ]
  },
  {
   "cell_type": "code",
   "execution_count": null,
   "id": "3227b635",
   "metadata": {},
   "outputs": [
    {
     "data": {
      "image/png": "[encoded data removed]",
      "text/plain": [
       "<Figure size 432x288 with 1 Axes>"
      ]
     },
     "metadata": {
      "needs_background": "light"
     },
     "output_type": "display_data"
    }
   ],
   "source": [
    "# plot them \n",
    "plt.plot(cos_g)\n",
    "plt.title('Cosine Schedule');"
   ]
  },
  {
   "cell_type": "code",
   "execution_count": null,
   "id": "0d813167",
   "metadata": {},
   "outputs": [
    {
     "data": {
      "image/png": "[encoded data removed]",
      "text/plain": [
       "<Figure size 432x288 with 1 Axes>"
      ]
     },
     "metadata": {
      "needs_background": "light"
     },
     "output_type": "display_data"
    }
   ],
   "source": [
    "plt.plot(warmup_g)\n",
    "plt.title('Warmup Cosine Schedule');"
   ]
  },
  {
   "cell_type": "code",
   "execution_count": null,
   "id": "88db251f",
   "metadata": {},
   "outputs": [
    {
     "data": {
      "image/png": "[encoded data removed]",
      "text/plain": [
       "<Figure size 432x288 with 1 Axes>"
      ]
     },
     "metadata": {
      "needs_background": "light"
     },
     "output_type": "display_data"
    }
   ],
   "source": [
    "plt.plot(TNorm_g)\n",
    "plt.title('Small Cosine Schedule to T-Norm');"
   ]
  },
  {
   "cell_type": "markdown",
   "id": "8b8a682f",
   "metadata": {},
   "source": [
    "Next, we create a few Guidance Transformations:  "
   ]
  },
  {
   "cell_type": "code",
   "execution_count": null,
   "id": "126b1111",
   "metadata": {},
   "outputs": [],
   "source": [
    "# create a CFG with cosine schedule, but no normalization\n",
    "sample_sched = {'g': cos_g}\n",
    "tfm = GuidanceTfm(sample_sched)\n",
    "\n",
    "# CFG with cosine schedule and BaseNorm\n",
    "norm_tfm = BaseNormGuidance(sample_sched)\n",
    "\n",
    "# creating a TNorm guidance with the smaller schedule\n",
    "small_sched = {'g': TNorm_g}\n",
    "small_tfm = TNormGuidance(small_sched)"
   ]
  },
  {
   "cell_type": "code",
   "execution_count": null,
   "id": "d2185d31",
   "metadata": {},
   "outputs": [],
   "source": []
  }
 ],
 "metadata": {
  "kernelspec": {
   "display_name": "Python 3 (ipykernel)",
   "language": "python",
   "name": "python3"
  }
 },
 "nbformat": 4,
 "nbformat_minor": 5
}
