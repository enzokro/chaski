{
 "cells": [
  {
   "cell_type": "raw",
   "id": "558975a4",
   "metadata": {},
   "source": [
    "---\n",
    "title: \"MAP and MLE examples for regression and classification\"\n",
    "author: \"enzokro\"\n",
    "date: \"11/10/2022\"\n",
    "toc: true \n",
    "badges: true\n",
    "categories: [classification, regression, MLE, MAP]\n",
    "image: bayes_rule2.png\n",
    "jupyter: python3\n",
    "---"
   ]
  },
  {
   "cell_type": "markdown",
   "id": "27e49af0",
   "metadata": {},
   "source": [
    "> Regression and classification with Maximum Likelihood Estimation (MLE) and Maximum A Posteriori (MAP)."
   ]
  },
  {
   "cell_type": "markdown",
   "id": "51b99017",
   "metadata": {},
   "source": [
    "# Introduction "
   ]
  },
  {
   "cell_type": "markdown",
   "id": "a1669313",
   "metadata": {},
   "source": [
    "# Setting up the examples\n",
    "\n",
    "## Regression - temperature readings from an IoT sensor. \n",
    "\n",
    "## Classification - the Iris flower problem"
   ]
  },
  {
   "cell_type": "markdown",
   "id": "5284c536",
   "metadata": {},
   "source": [
    "# Quick recap of Bayes Rule\n",
    "\n",
    "## Posterior\n",
    "## Likelihood\n",
    "## Prior\n",
    "## Evidence"
   ]
  },
  {
   "cell_type": "markdown",
   "id": "3aa797e2",
   "metadata": {},
   "source": [
    "# Maximum Likelihood Estimate\n",
    "\n",
    "## Regression with MLE \n",
    "\n",
    "## Classification with MLE\n",
    "\n",
    "## MLE Recap"
   ]
  },
  {
   "cell_type": "markdown",
   "id": "fb1633c9",
   "metadata": {},
   "source": [
    "# Maximum A Posteriori\n",
    "\n",
    "## Regression with MAP\n",
    "\n",
    "## Classification with MAP\n",
    "\n",
    "## MAP Recap"
   ]
  },
  {
   "cell_type": "markdown",
   "id": "0716d665",
   "metadata": {},
   "source": [
    "# MLE vs. MAP"
   ]
  },
  {
   "cell_type": "markdown",
   "id": "e9118af8",
   "metadata": {},
   "source": [
    "# Conclusion"
   ]
  },
  {
   "cell_type": "code",
   "execution_count": null,
   "id": "a7f4384e",
   "metadata": {},
   "outputs": [],
   "source": []
  }
 ],
 "metadata": {
  "kernelspec": {
   "display_name": "Python 3 (ipykernel)",
   "language": "python",
   "name": "python3"
  }
 },
 "nbformat": 4,
 "nbformat_minor": 5
}
