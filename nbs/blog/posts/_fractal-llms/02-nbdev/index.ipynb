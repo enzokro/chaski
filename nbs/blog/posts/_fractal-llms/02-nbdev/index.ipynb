{
 "cells": [
  {
   "cell_type": "raw",
   "metadata": {},
   "source": [
    "---\n",
    "title: \"Lessong 2: Blogging with nbdev\"\n",
    "author: \"Chris Kroenke\"\n",
    "date: \"10/05/2023\"\n",
    "toc: true \n",
    "badges: true\n",
    "categories: [fractal, python, nbdev]\n",
    "image: \"nbdev_pic.png\"\n",
    "jupyter: python3\n",
    "---"
   ]
  },
  {
   "cell_type": "markdown",
   "metadata": {},
   "source": [
    "> Making a personal blog course using nbdev."
   ]
  },
  {
   "cell_type": "markdown",
   "metadata": {},
   "source": [
    "# Intro  \n",
    "\n"
   ]
  },
  {
   "cell_type": "markdown",
   "metadata": {},
   "source": [
    "The main goal of this lesson is to set up a personal blog for this course. The blog is where you will chronicle your learnings and challenges throughout the course. From the course syllabus:  \n",
    "\n",
    "```markdown\n",
    "This is a public-facing course. Students should write about their journey to both cement and track their progress.  \n",
    "\n",
    "Publishing is a powerful tool for learning since it casts a piece of work under a new, critical light. Your understanding of a topic is also crystallized by seeing other's work, highlighted from different angles. \n",
    "\n",
    "Blogging out in the open can be scary, but here we aim to make it as easy and helpful as possible.\n",
    "```  \n",
    "\n",
    "On the topic of blogging and publishing being scary or intimidating: try to focus on writing snippets or summaries about what you're currently learning. Then, pretend that you're writing the article you *wish* you had when first learning about the topic. The first articles are the hardest, to be sure. Once you've gotten into the flow with the hints above, other longer articles will flow more easily.  "
   ]
  },
  {
   "cell_type": "markdown",
   "metadata": {},
   "source": [
    "# The `nbdev` framework"
   ]
  },
  {
   "cell_type": "markdown",
   "metadata": {},
   "source": [
    "We will setup our blog using [`nbdev`](https://nbdev.fast.ai/). It is a great tool for creating powerful applications. `nbdev`'s core idea is that a project's code, documentation, and tests should exist together as a unified, interactive document."
   ]
  },
  {
   "cell_type": "markdown",
   "metadata": {},
   "source": [
    "`nbdev` is inspired by two paradigms in the coding world:  \n",
    "- [Literate Programming](https://en.wikipedia.org/wiki/Literate_programming)  \n",
    "- [Exploratory Programming](https://en.wikipedia.org/wiki/Exploratory_programming)     \n",
    "\n",
    "Feel free to take some time now and click on the links above to learn more about these paradigms.   \n",
    "\n",
    "Now, let's go over these two ideas and explore why their combination is so powerful.  "
   ]
  },
  {
   "cell_type": "markdown",
   "metadata": {},
   "source": [
    "## Literate Programming \n",
    "\n",
    "In Literate Programming, comments and tests are woven directly into a project's source code. The original idea was proposed by [Donald Knuth](https://en.wikipedia.org/wiki/Donald_Knuth) in 1984. Having all of pieces together a single, interactive document makes for better, more readable code and a more cohesive project overall.  \n",
    "\n",
    "The code, documentation, and tests are all first-class citizens in Literate Programming. This is very different from the typical approach to software where tests and documentation live in a separate set of files."
   ]
  },
  {
   "cell_type": "markdown",
   "metadata": {},
   "source": [
    " In `nbdev`, a [Jupyter Notebook](https://docs.jupyter.org/en/latest/) is the single source of truth for code, documentation, and tests. Instead of managing three independent groups of files, everything is defined and happens in the Notebook. If the Notebook runs, then you know your code will run. "
   ]
  },
  {
   "cell_type": "markdown",
   "metadata": {},
   "source": [
    "## Exploratory Programming  \n",
    "\n",
    "Exploratory Programming is an open-ended approach for tackling new problems and unknown domains. It's very useful at the start of a project, while the scope and requirements are still being fleshed out. And it can highlight different angles on a known, established approach by casting it under a new light. \n",
    "\n",
    "Notebooks are both dynamic and interactive which makes them perfect for Exploratory Programming. The barrier for trying new things in a notebook is extremely low. And they're downright fun! "
   ]
  },
  {
   "cell_type": "markdown",
   "metadata": {},
   "source": [
    "The video below is an incredible talk by Bret Victor about the power of Exploratory Programming, with stunning examples throughout to drive the point home. If these short snippets weren't enough to sell you on the idea, the talk certainly will."
   ]
  },
  {
   "cell_type": "markdown",
   "metadata": {},
   "source": [
    "<iframe width=\"560\" height=\"315\" src=\"https://www.youtube.com/embed/PUv66718DII?si=rPbY3LL6kQw-4yUa\" title=\"YouTube video player\" frameborder=\"0\" allow=\"accelerometer; autoplay; clipboard-write; encrypted-media; gyroscope; picture-in-picture; web-share\" allowfullscreen></iframe>"
   ]
  },
  {
   "cell_type": "markdown",
   "metadata": {},
   "source": [
    "## Combining Literate and Exploratory Programming  \n",
    "\n",
    "`nbdev` combines these two ideas. We covered why this is a powerful combination in the [Course Philosophy](https://enzokro.dev/blog/posts/fractal-llms/00-Overview/#course-philosophy) section of the syllabus. Please take a moment to re-read with the new context from above.\n",
    "\n",
    "With this combo, we can interactively learn about and explore how a piece of code works. We can easily follow any hint of curiosity since iterations are fast and cheap. And we can now develop code in a much more dynamic way than usual.   \n",
    "\n",
    "These ideas can be doled out on the fly. For example, at the start of a project we could lean Exploratory to map out the problem space. Then, as the idea matures, we can pivot to Literate to refine our approach.   \n",
    "\n",
    "And the best part is that if anything breaks, we can always restart the Notebook and try again. It's like clearing out the whiteboard and taking another pass at the problem. "
   ]
  },
  {
   "cell_type": "markdown",
   "metadata": {},
   "source": [
    "We've talked a big game about what `nbdev` can do for writing great software projects. Now, to get back on track, let's look at how `nbdev` can turn Notebooks into our future blog posts."
   ]
  },
  {
   "cell_type": "markdown",
   "metadata": {},
   "source": [
    "# Turning Notebooks into Blog Posts"
   ]
  },
  {
   "cell_type": "markdown",
   "metadata": {},
   "source": [
    "First, a high-level look at the process we will follow to setup our blog:"
   ]
  },
  {
   "cell_type": "markdown",
   "metadata": {},
   "source": [
    "**High-Level Steps**  \n",
    "1. Create a new `nbdev` project.  \n",
    "2. Make a blog inside the project.  \n",
    "3. Publish and host the blog for free on Github Pages.  "
   ]
  },
  {
   "cell_type": "markdown",
   "metadata": {},
   "source": [
    "`nbdev` relies on the [Quarto framework](https://quarto.org/) to publish blogs. Quarto is a framework for writing beautiful technical and scientific articles. In a way, it's a blogging platform for Literate Programming, where a series of code and comments lead the reader on a journey.  \n",
    "\n",
    "The picture below from the official Quarto site gives shows what the framework is all about."
   ]
  },
  {
   "cell_type": "markdown",
   "metadata": {},
   "source": [
    "![](quarto.png)"
   ]
  },
  {
   "cell_type": "markdown",
   "metadata": {},
   "source": [
    "### Creating a new `nbdev` project"
   ]
  },
  {
   "cell_type": "markdown",
   "metadata": {},
   "source": [
    "`nbdev` works on top of a Git repo. That means our first step is creating a new, empty repository. Here is a [handy Github link](https://github.com/new) that takes us straight to the page for creating new repos. "
   ]
  },
  {
   "cell_type": "markdown",
   "metadata": {},
   "source": [
    "> Note: We need a completely empty repo. Don't include a `.gitignore` or `README.md`.  "
   ]
  },
  {
   "cell_type": "markdown",
   "metadata": {},
   "source": [
    "In this example the empty repo is called `sample_blog`, but feel free to call it anything you'd like. We're not tied to this name. We can always make new repos with different, better names. "
   ]
  },
  {
   "cell_type": "markdown",
   "metadata": {},
   "source": [
    "Clone the new, empty repo to your computer. Make sure to change the github link below so it points to your repo instead. \n",
    "\n",
    "```bash\n",
    "# clone the repo to your computer\n",
    "git clone https://github.com/enzokro/sample_blog.git # <-- ! link with your repo here\n",
    "```"
   ]
  },
  {
   "cell_type": "markdown",
   "metadata": {},
   "source": [
    "Now we can move into this repo and let `nbdev` work its initialization magic. Run the `nbdev_new` command to get started. The command will prompt you for some general info, like a short description about the project.\n",
    "\n",
    "```bash\n",
    "# move into the new repo and initialize the nbdev project\n",
    "cd sample_blog/\n",
    "nbdev_new\n",
    "```"
   ]
  },
  {
   "cell_type": "markdown",
   "metadata": {},
   "source": [
    "> Note: All of the options and configs for the project are in the `settings.ini` file. `nbdev` looks in this file when it needs any information for its commands. "
   ]
  },
  {
   "cell_type": "markdown",
   "metadata": {},
   "source": [
    "After `nbdev_new` finishes, we will have a brand new `nbdev` project!  \n",
    "\n",
    "Run a `git status` command to see everything that was added. Then we commit and push these changes to Github."
   ]
  },
  {
   "cell_type": "markdown",
   "metadata": {},
   "source": [
    "```bash\n",
    "# add, commit, and push the files created by nbdev\n",
    "git add .\n",
    "git commit -m'Initial nbdev project creation'\n",
    "git push\n",
    "```"
   ]
  },
  {
   "cell_type": "markdown",
   "metadata": {},
   "source": [
    "As mentioned earlier, `nbdev` publishes notebooks using Quarto. Let's now take a look at how to turn this project into a full Quarto blog."
   ]
  },
  {
   "cell_type": "markdown",
   "metadata": {},
   "source": [
    "### Adding Quarto to the Mix"
   ]
  },
  {
   "cell_type": "markdown",
   "metadata": {},
   "source": [
    "Start by activating the virtual environment from the previous [Environment Setup Notebook](link_tbd):\n",
    "\n",
    "```bash\n",
    "# activate the environment\n",
    "mamba activate llm_base\n",
    "```"
   ]
  },
  {
   "cell_type": "markdown",
   "metadata": {},
   "source": [
    "`nbdev` comes with a built-in command to install quarto: `nbdev_install_quarto`. Note that the command will ask for admin privileges.\n",
    "\n",
    "```bash\n",
    "# install quarto \n",
    "nbdev_install_quarto\n",
    "```"
   ]
  },
  {
   "cell_type": "markdown",
   "metadata": {},
   "source": [
    "You may need to refresh the terminal before it can see the newly installed `quarto` binary. To be safe, open up a new terminal and re-activate the environment. Then the command below will check if Quarto  was installed successfully.    \n",
    "\n",
    "```bash\n",
    "# shows us where quarto was installed\n",
    "which quarto \n",
    "```"
   ]
  },
  {
   "cell_type": "markdown",
   "metadata": {},
   "source": [
    "Now that Quarto is installed, let's turn our fresh nbdev project into an actual blog."
   ]
  },
  {
   "cell_type": "markdown",
   "metadata": {},
   "source": [
    "#### Turn an `nbdev` project into a Quarto blog"
   ]
  },
  {
   "cell_type": "markdown",
   "metadata": {},
   "source": [
    "In an `nbdev` project the Notebooks usually live inside the `nbs/` folder. These Notebooks eventually become a project's code source, tests, and documentation.   \n",
    "\n",
    "For Quarto to instead publish Notebooks as blog posts, we need to add a few files and folders to the `nbs/` folder."
   ]
  },
  {
   "cell_type": "markdown",
   "metadata": {},
   "source": [
    "Below is the structure for a `nbs/` folder that's been primed for its blog post."
   ]
  },
  {
   "cell_type": "markdown",
   "metadata": {},
   "source": [
    "**Initial Structure for Quarto Blog**:\n",
    "```\n",
    "sample_blog\n",
    "└───nbs/\n",
    "│   │   _quarto.yml\n",
    "│   │   index.ipynb\n",
    "│   └───blog/\n",
    "│       │   index.qmd\n",
    "│       └───posts/\n",
    "│           └───2023-09-27-Blog-Intro/     \n",
    "│               │   index.ipynb\n",
    "```"
   ]
  },
  {
   "cell_type": "markdown",
   "metadata": {},
   "source": [
    "The main change is adding a `blog/` folder inside of the `nbs/` directory. Inside, at its top level, we place an `index.qmd` file that tells Quarto about our blog. Here's example `index.qmd` file that titles our blog and describes how posts will be listed:\n",
    "\n",
    "```yaml\n",
    "---\n",
    "title: Example Blog\n",
    "subtitle: Publishing with Quarto and nbdev\n",
    "listing:\n",
    "  sort: \"date desc\"\n",
    "  contents: \"posts\"\n",
    "  sort-ui: false\n",
    "  filter-ui: false\n",
    "  categories: true\n",
    "  feed: true\n",
    "page-layout: full\n",
    "---\n",
    "```"
   ]
  },
  {
   "cell_type": "markdown",
   "metadata": {},
   "source": [
    "To stay better organized, each post will get its in folder. An `index.ipynb` Notebook inside each folder will have the post's actual content. We can also put photos, videos, or any other assets to enhance a post into this folder."
   ]
  },
  {
   "cell_type": "markdown",
   "metadata": {},
   "source": [
    "As a working example, we are going a bit meta and using this Notebook itself as `index.ipynb` in the folder called `2023-09-27-Blog-Intro/`.  \n",
    "\n",
    "In other words this Notebook will also be our first blog post."
   ]
  },
  {
   "cell_type": "markdown",
   "metadata": {},
   "source": [
    "#### Hosting the Blog on Github Pages"
   ]
  },
  {
   "cell_type": "markdown",
   "metadata": {},
   "source": [
    "The site will be hosted on Github's [Pages platform](https://pages.github.com/). This is a built-in feature offered by Github and we can leverage it by changing a few settings. The screenshot below shows the to configure the repo so it can be published as a blog."
   ]
  },
  {
   "cell_type": "markdown",
   "metadata": {},
   "source": [
    "![](github_pages.png)"
   ]
  },
  {
   "cell_type": "markdown",
   "metadata": {},
   "source": [
    "\n",
    "Specifically, we need to set the `Deploy from a branch` option under the `Build and deployment section`. Then, we pick the `gh-pages` branch as the branch to deploy from. `gh-pages` is a special branch where nbdev parses our Notebooks into a proper Quarto website. "
   ]
  },
  {
   "cell_type": "markdown",
   "metadata": {},
   "source": [
    "Next, run the `quarto publish` command to build and publish the blog. \n",
    "\n",
    "```bash\n",
    "# publish the blog on github pages\n",
    "quarto publish\n",
    "```"
   ]
  },
  {
   "cell_type": "markdown",
   "metadata": {},
   "source": [
    "And there we go! We created and published our first blog post using `nbdev`. [Click here](https://enzokro.dev/blog/posts/2023-09-27-Session_1_nbdev/) for a live link to this Notebook as a blog post."
   ]
  },
  {
   "cell_type": "markdown",
   "metadata": {},
   "source": [
    "# Conclusion"
   ]
  },
  {
   "cell_type": "markdown",
   "metadata": {},
   "source": [
    "This Notebook covered how to create and publish a blog. We used `nbdev` to build the blog and Quarto to publish it. We also showed how the mix of Literate and Exploratory Programming is a powerful approach to both research and thinking in general."
   ]
  },
  {
   "cell_type": "markdown",
   "metadata": {},
   "source": [
    "## References"
   ]
  },
  {
   "cell_type": "markdown",
   "metadata": {},
   "source": [
    "\n",
    "- [Official nbdev tutorial](https://nbdev.fast.ai/tutorials/tutorial.html#installation)\n",
    "- [Blogging with nbdev](https://nbdev.fast.ai/tutorials/blogging.html)"
   ]
  }
 ],
 "metadata": {
  "kernelspec": {
   "display_name": "Python 3 (ipykernel)",
   "language": "python",
   "name": "python3"
  },
  "language_info": {
   "codemirror_mode": {
    "name": "ipython",
    "version": 3
   },
   "file_extension": ".py",
   "mimetype": "text/x-python",
   "name": "python",
   "nbconvert_exporter": "python",
   "pygments_lexer": "ipython3",
   "version": "3.11.6"
  }
 },
 "nbformat": 4,
 "nbformat_minor": 4
}
