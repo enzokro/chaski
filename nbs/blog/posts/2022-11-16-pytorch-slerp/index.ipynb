{
 "cells": [
  {
   "cell_type": "raw",
   "id": "7ee563c0",
   "metadata": {},
   "source": [
    "---\n",
    "title: \"A PyTorch SLERP implementation\"\n",
    "author: \"enzokro\"\n",
    "date: \"11/16/2022\"\n",
    "toc: true \n",
    "badges: true\n",
    "categories: [diffusion, latent interpolation, SLERP]\n",
    "image: slerp.png\n",
    "jupyter: python3\n",
    "---"
   ]
  },
  {
   "cell_type": "markdown",
   "id": "3b834b35",
   "metadata": {},
   "source": [
    "> SLERP implemented in PyTorch with proper thresholding.  "
   ]
  },
  {
   "cell_type": "code",
   "execution_count": null,
   "id": "622fced0",
   "metadata": {},
   "outputs": [],
   "source": [
    "#| echo: false\n",
    "import numpy as np\n",
    "import matplotlib.pyplot as plt\n",
    "import matplotlib.colors as mcolors"
   ]
  },
  {
   "cell_type": "markdown",
   "id": "a2a40c9e",
   "metadata": {},
   "source": [
    "# Introduction"
   ]
  },
  {
   "cell_type": "markdown",
   "id": "3c8a034e",
   "metadata": {},
   "source": [
    "This notebook introduces a native PyTorch implementation of [SLERP](https://en.wikipedia.org/wiki/Slerp). SLERP stands for \"Spherical Linear Interpolation\".  \n",
    "\n",
    "It is a way of interpolating two vectors that keeps their length intact. We cover why this is important in the [Background](#Background) section below. In future posts, we'll use SLERP to combine the latent vectors of Diffusion models. "
   ]
  },
  {
   "cell_type": "markdown",
   "id": "176af474",
   "metadata": {},
   "source": [
    "# Background"
   ]
  },
  {
   "cell_type": "markdown",
   "id": "793e9274",
   "metadata": {},
   "source": [
    "The code is a refactor of a great numpy implementation by [@xsteenbrugge](https://twitter.com/xsteenbrugge). We can see an example of it in Andrej Karpathy's [Diffusion video script](https://gist.github.com/karpathy/00103b0037c5aaea32fe1da1af553355).\n",
    "\n",
    "We also compare our SLERP to a short PyTorch implementation from [@ptrblck_de](https://twitter.com/ptrblck_de) in the [pytorch forums]( https://discuss.pytorch.org/t/help-regarding-slerp-function-for-generative-model-sampling/32475/4).  \n",
    "\n",
    "\n",
    "Our SLERP doesn't cast tensors to and from numpy. But if GPU memory is at a premium (when is it not?), there is a flag `to_cpu` to compute SLERP on the CPU instead.  \n",
    "\n",
    "This SLERP implementation uses a threshold on the dot product to avoid `nans` when the vectors are too close to parallel. Finally, our SLERP also has a helper `zdim` argument to process batched vectors.  "
   ]
  },
  {
   "cell_type": "markdown",
   "id": "42a1cc9c",
   "metadata": {},
   "source": [
    "> **NOTE**: If you don't need to know about the theory, you can skip straight to the [code](#SLERP-Implementation).  \n"
   ]
  },
  {
   "cell_type": "markdown",
   "id": "5421e037",
   "metadata": {},
   "source": [
    "## Why do we need SLERP?  "
   ]
  },
  {
   "cell_type": "markdown",
   "id": "21de3c47",
   "metadata": {},
   "source": [
    "SLERP is a way of interpolating vectors that preserves their overall magnitude. Why is this important for Diffusion models?  \n",
    "\n",
    "It has to do with how our intuitions about Gaussians break down in higher dimensions. This [blog post](https://www.inference.vc/high-dimensional-gaussian-distributions-are-soap-bubble/) by Ferenc Huszár has an excellent description of exactly how our intuitions fail. His post also has many good visualizations that drive the point home.      \n",
    "\n",
    "To summarize: a high-dimensional Gaussian is fundamentally different from the 1D \"Bell curve\" we are used to dealing with. \n",
    "\n",
    "As we climb to higher dimensions, the Guassian distribution turns into a thin, hollow shell. The probability density becomes spread out around this thin shell. Compare this to a typical 1D Gaussian. In the 1D case, most of the density is within a couple standard deviations of its mean.  \n",
    "\n",
    "Before long, we are in a situation where the \"inside\" of the high-dimensional Gaussian is empty. Only its thin shell has any probability density. Borrowing Ferenc Huszár's excellent analogy: the distribution has become like a \"soap bubble\".  \n",
    "\n",
    "Most Diffusion models are based on high-dimensional Gaussians. That means that when we talk about denoising latent spaces, we are in fact dealing with a series of high-dimensional soap bubbles.  "
   ]
  },
  {
   "cell_type": "markdown",
   "id": "0b423f14",
   "metadata": {},
   "source": [
    "### Ok, so where does SLERP factor in?\n",
    "\n",
    "Bringing it back to SLERP: if we use a regular linear interpolation, then our interpolated vector can easily \"fly off\" from the Gaussian soap film. We show an example below of how this happens even in 2D space.  \n",
    "\n",
    "If we want to better travel the Diffusion latent space, we need to make sure that we stay on the thin surface of its Gaussian soap bubbles.  "
   ]
  },
  {
   "cell_type": "markdown",
   "id": "64863cb9",
   "metadata": {},
   "source": [
    "## What about linear interpolation?  "
   ]
  },
  {
   "cell_type": "code",
   "execution_count": null,
   "id": "a2472f8e",
   "metadata": {},
   "outputs": [],
   "source": [
    "#| echo: false\n",
    "def plot_vectors(*vects, labels=[], draw_unit_circle=True, colors=list(mcolors.TABLEAU_COLORS)):\n",
    "    \"\"\"Small helper to plot a series of unit vectors with labels. \n",
    "    \n",
    "    Optionally adds a unit circle outline.\n",
    "    \"\"\"\n",
    "    fig = plt.figure(figsize=(7,7))\n",
    "    ax = fig.add_subplot(1, 1, 1)\n",
    "    \n",
    "    # for reference, add a unit circle\n",
    "    if draw_unit_circle:\n",
    "        circ = plt.Circle((0, 0), radius=1, edgecolor='b', facecolor='None', linestyle=(5, (10, 3)))\n",
    "        ax.add_patch(circ)\n",
    "        \n",
    "    # create the origin\n",
    "    origin = [0 for _ in range(len(vects))]\n",
    "    origin = np.array([origin, origin])\n",
    "    \n",
    "    # find the base and tips of the vectors\n",
    "    base = [v[0] for v in vects]\n",
    "    tips = [v[1] for v in vects]\n",
    "    \n",
    "    # find the colors we need\n",
    "    colors = colors[:len(vects)] # TODO: what if we get more vectors than colors?\n",
    "    \n",
    "    # add labels if they were given\n",
    "    if labels:\n",
    "        for (v,lbl) in zip(vects, labels):\n",
    "            beg, end = v\n",
    "            ax.text(\n",
    "                # some hacky padding to better align labels to the vectors\n",
    "                beg + 0.045 if beg != 0 else beg,\n",
    "                end + 0.045 if end != 0 else end, \n",
    "                lbl,\n",
    "                fontsize='x-large',\n",
    "            )\n",
    "    \n",
    "    # plot the vectors\n",
    "    plt.quiver(*origin, base, tips, color=colors, angles='xy', scale_units='xy', scale=1)\n",
    "    plt.xlim(-1.025, 1.25)\n",
    "    plt.ylim(-1.025, 1.25)\n",
    "    return fig"
   ]
  },
  {
   "cell_type": "markdown",
   "id": "185c45d7",
   "metadata": {},
   "source": [
    "Regular linear interpolation (sometimes called LERP) has its rightful place. It is a cornerstone of computer graphics when we need to move an object between two points. In other words, LERP makes perfect sense if we only care about the position of the object along its interpolation path.  \n",
    "\n",
    "You can think of LERP, in a way, like gravity: the shortest distance between two points is a straight line.  \n",
    "\n",
    "For example: imagine we are drinking a cup of coffee and the mug is on the table. As we go to take a sip, we pick up the mug and bring it directly to our lips. Why would we swing our arm around in a weird pattern? That only makes the coffee take longer to get in our bellies.  \n",
    "\n",
    "More generally, if we are moving objects in our familiar 3D world, we want to do the least amount of work. In a manner of speaking, we used LERP interpolation to bring the coffee mug to our lips.    \n",
    "\n",
    "\n",
    "This example brings us back to why we need SLERP in the first place. Our intuitive notions of 3D paths break down in higher dimensions. In these higher-dimensions, LERP is not doing what we *think* it's doing and we are much better served by SLERP.   "
   ]
  },
  {
   "cell_type": "markdown",
   "id": "14058e46",
   "metadata": {},
   "source": [
    "### A concrete example of LERP"
   ]
  },
  {
   "cell_type": "markdown",
   "id": "94991ea1",
   "metadata": {},
   "source": [
    "To make the points above tangible, let's see how linear interpolation works on vectors.  \n",
    "\n",
    "For our example we can use the familiar $x$ and $y$ basis vectors. We also draw the Unit Circle for reference.  \n",
    "\n",
    "> **NOTE**: the plotting function is available in the notebook. We omit it here for conciseness.  "
   ]
  },
  {
   "cell_type": "code",
   "execution_count": null,
   "id": "a45e7e42",
   "metadata": {},
   "outputs": [],
   "source": [
    "import torch\n",
    "\n",
    "# use the X and Y axis unit vectors as an example\n",
    "xhat = torch.tensor([1, 0]).float()\n",
    "yhat = torch.tensor([0, 1]).float()"
   ]
  },
  {
   "cell_type": "code",
   "execution_count": null,
   "id": "9d7299b0",
   "metadata": {},
   "outputs": [
    {
     "data": {
      "image/png": "[encoded data removed]",
      "text/plain": [
       "<Figure size 504x504 with 1 Axes>"
      ]
     },
     "metadata": {
      "needs_background": "light"
     },
     "output_type": "display_data"
    }
   ],
   "source": [
    "# plot the basis vectors, with a unit circle outline\n",
    "fig = plot_vectors(xhat, yhat, labels=['$\\hat{x}$', '$\\hat{y}$'], draw_unit_circle=True)\n",
    "plt.xlabel('X Axis', fontsize='x-large')\n",
    "plt.ylabel('Y Axis', fontsize='x-large')\n",
    "plt.title('Basis Vectors on the Unit Circle', fontsize='xx-large', pad=10);"
   ]
  },
  {
   "cell_type": "markdown",
   "id": "7a7387ad",
   "metadata": {},
   "source": [
    "What happens when we linearly interpolate (LERP) these vectors to their midpoint?"
   ]
  },
  {
   "cell_type": "code",
   "execution_count": null,
   "id": "fe7d6b5a",
   "metadata": {},
   "outputs": [],
   "source": [
    "# compare against averaging the vectors\n",
    "p_lerp = (xhat + yhat) / 2"
   ]
  },
  {
   "cell_type": "code",
   "execution_count": null,
   "id": "e03835a2",
   "metadata": {},
   "outputs": [
    {
     "data": {
      "image/png": "[encoded data removed]",
      "text/plain": [
       "<Figure size 504x504 with 1 Axes>"
      ]
     },
     "metadata": {
      "needs_background": "light"
     },
     "output_type": "display_data"
    }
   ],
   "source": [
    "# plotting the LERP of basis vectors x and y\n",
    "fig = plot_vectors(xhat, yhat, p_lerp, labels=['$\\hat{x}$', '$\\hat{y}$', 'P_lerp'])\n",
    "plt.xlabel('X Axis', fontsize='x-large')\n",
    "plt.ylabel('Y Axis', fontsize='x-large')\n",
    "plt.title('Linear Interpolation of Unit Vectors', fontsize='xx-large', pad=10);"
   ]
  },
  {
   "cell_type": "markdown",
   "id": "bc920261",
   "metadata": {},
   "source": [
    "If we only cared about getting from y to x, then we are on the right track! LERP is taking the shortest path possible.  \n",
    "\n",
    "But now, think of the Unit Circle as representing a high-dimensional Gaussian soap bubble. The problem is the immediately clear...  The linear interpolation has taken us *off* the film surface of the soap bubble!  \n",
    "\n",
    "To tie this situation to a 1D Gaussian example, it's as if we moved far, far away from our mean. Something like $+10$ $\\sigma$ away. That would be an incredibly unlikely sample. "
   ]
  },
  {
   "cell_type": "markdown",
   "id": "05ef3654",
   "metadata": {},
   "source": [
    "With SLERP, we can still interpolate these unit vectors while staying firmly anchored to the soap bubble. Let's now define the function. "
   ]
  },
  {
   "cell_type": "markdown",
   "id": "c80fe3d0",
   "metadata": {},
   "source": [
    "# SLERP Implementation"
   ]
  },
  {
   "cell_type": "code",
   "execution_count": null,
   "id": "9d0ac7fd",
   "metadata": {},
   "outputs": [],
   "source": [
    "import torch \n",
    "\n",
    "def slerp(v1, v2, t, DOT_THR=0.9995, to_cpu=False, zdim=-1):\n",
    "    \"\"\"SLERP for pytorch tensors interpolating `v1` to `v2` with scale of `t`.\n",
    "    \n",
    "    Does a regular linear interpolation when the vectors are too close to parallel.\n",
    "        I.E. when their dot product is above `DOT_THR`.  \n",
    "\n",
    "    Theory Reference:\n",
    "        https://splines.readthedocs.io/en/latest/rotation/slerp.html\n",
    "    \n",
    "    PyTorch reference:\n",
    "        https://discuss.pytorch.org/t/help-regarding-slerp-function-for-generative-model-sampling/32475/3\n",
    "        \n",
    "    Numpy reference: \n",
    "        https://gist.github.com/dvschultz/3af50c40df002da3b751efab1daddf2c\n",
    "    \"\"\"\n",
    "    \n",
    "    # check if we need to compute on the cpu\n",
    "    if to_cpu:\n",
    "        orig_device = v1.device\n",
    "        v1, v2 = v1.to('cpu'), v2.to('cpu')\n",
    "    \n",
    "    # take the dot product between normalized vectors\n",
    "    v1_norm = v1 / torch.norm(v1, dim=zdim, keepdim=True)\n",
    "    v2_norm = v2 / torch.norm(v2, dim=zdim, keepdim=True)\n",
    "    dot = (v1_norm * v2_norm).sum(zdim)\n",
    "    \n",
    "    # if the vectors are too close, return a simple linear interpolation\n",
    "    if (torch.abs(dot) > DOT_THR).any():\n",
    "        print(f'warning: v1 and v2 close to parallel, using linear interpolation instead.')\n",
    "        res = (1 - t) * v1 + t * v2    \n",
    "    \n",
    "    # else, apply SLERP\n",
    "    else:\n",
    "        # compute the angle terms we need\n",
    "        theta   = torch.acos(dot)\n",
    "        theta_t = theta * t\n",
    "        sin_theta   = torch.sin(theta)\n",
    "        sin_theta_t = torch.sin(theta_t)\n",
    "        \n",
    "        # compute the sine scaling terms for the vectors\n",
    "        s1 = torch.sin(theta - theta_t) / sin_theta\n",
    "        s2 = sin_theta_t / sin_theta\n",
    "        \n",
    "        # interpolate the vectors\n",
    "        res = (s1.unsqueeze(zdim) * v1) + (s2.unsqueeze(zdim) * v2)\n",
    "        \n",
    "    # check if we need to move back to the original device\n",
    "    if to_cpu: res.to(orig_device)\n",
    "        \n",
    "    return res"
   ]
  },
  {
   "cell_type": "markdown",
   "id": "4b0f8407",
   "metadata": {},
   "source": [
    "## SLERP interpolation on the unit vectors"
   ]
  },
  {
   "cell_type": "markdown",
   "id": "74e31429",
   "metadata": {},
   "source": [
    "What happens if we interpolate the unit vectors with SLERP instead? "
   ]
  },
  {
   "cell_type": "code",
   "execution_count": null,
   "id": "ca636015",
   "metadata": {},
   "outputs": [],
   "source": [
    "# SLERP iterpolate unit vectors to their midpoint\n",
    "p = slerp(xhat, yhat, 0.5)"
   ]
  },
  {
   "cell_type": "markdown",
   "id": "4134020a",
   "metadata": {},
   "source": [
    "Let's draw the SLERP-interpolated vector."
   ]
  },
  {
   "cell_type": "code",
   "execution_count": null,
   "id": "1d1d19dc",
   "metadata": {},
   "outputs": [
    {
     "data": {
      "image/png": "[encoded data removed]",
      "text/plain": [
       "<Figure size 504x504 with 1 Axes>"
      ]
     },
     "metadata": {
      "needs_background": "light"
     },
     "output_type": "display_data"
    }
   ],
   "source": [
    "# plot the SLERP iterpolated vector\n",
    "fig = plot_vectors(xhat, yhat, p, labels=['$\\hat{x}$', '$\\hat{y}$', 'P_slerp'])\n",
    "plt.xlabel('X Axis', fontsize='x-large')\n",
    "plt.ylabel('Y Axis', fontsize='x-large')\n",
    "plt.title('SLERP on Unit Vectors to their midpoint P', fontsize='xx-large', pad=10);"
   ]
  },
  {
   "cell_type": "markdown",
   "id": "8d67dc0f",
   "metadata": {},
   "source": [
    "That looks much better!  \n",
    "\n",
    "If the Unit Circle was like a Gaussian soap bubble, then we've properly moved along its film. "
   ]
  },
  {
   "cell_type": "markdown",
   "id": "07457995",
   "metadata": {},
   "source": [
    "# Conclusion"
   ]
  },
  {
   "cell_type": "markdown",
   "id": "68a5b9f6",
   "metadata": {},
   "source": [
    "This notebook presented a PyTorch implementation of SLERP.  \n",
    "\n",
    "We described what SLERP is and why we need it, compared to regular linear interpolation.  \n",
    "\n",
    "Lastly, we drew some examples to make it clear why SLERP is better at interpolating high-dimensional vectors. "
   ]
  },
  {
   "cell_type": "code",
   "execution_count": null,
   "id": "40725a40",
   "metadata": {},
   "outputs": [],
   "source": [
    "#| echo: false\n",
    "#| include: false\n",
    "\n",
    "'''\n",
    "NOTE: geometric_slerp below, finding a basis for the vectors and using atan2 to find the angle.\n",
    "''';\n",
    "\n",
    "# def slerp_v1(start, end, t):\n",
    "#     start = np.asarray(start, dtype=np.float64)\n",
    "#     end = np.asarray(end, dtype=np.float64)\n",
    "#     t = np.asarray(t)\n",
    "\n",
    "#     if t.ndim > 1:\n",
    "#         raise ValueError(\"The interpolation parameter \"\n",
    "#                          \"value must be one dimensional.\")\n",
    "\n",
    "#     if start.ndim != 1 or end.ndim != 1:\n",
    "#         raise ValueError(\"Start and end coordinates \"\n",
    "#                          \"must be one-dimensional\")\n",
    "\n",
    "#     if start.size != end.size:\n",
    "#         raise ValueError(\"The dimensions of start and \"\n",
    "#                          \"end must match (have same size)\")\n",
    "\n",
    "#     if start.size < 2 or end.size < 2:\n",
    "#         raise ValueError(\"The start and end coordinates must \"\n",
    "#                          \"both be in at least two-dimensional \"\n",
    "#                          \"space\")\n",
    "\n",
    "#     if np.array_equal(start, end):\n",
    "#         return np.linspace(start, start, t.size)\n",
    "\n",
    "#     # for points that violate equation for n-sphere\n",
    "#     for coord in [start, end]:\n",
    "#         if not np.allclose(np.linalg.norm(coord), 1.0,\n",
    "#                            rtol=1e-9,\n",
    "#                            atol=0):\n",
    "#             raise ValueError(\"start and end are not\"\n",
    "#                              \" on a unit n-sphere\")\n",
    "\n",
    "#     if not isinstance(tol, float):\n",
    "#         raise ValueError(\"tol must be a float\")\n",
    "#     else:\n",
    "#         tol = np.fabs(tol)\n",
    "\n",
    "#     coord_dist = euclidean(start, end)\n",
    "\n",
    "#     # diameter of 2 within tolerance means antipodes, which is a problem\n",
    "#     # for all unit n-spheres (even the 0-sphere would have an ambiguous path)\n",
    "#     if np.allclose(coord_dist, 2.0, rtol=0, atol=tol):\n",
    "#         warnings.warn(\"start and end are antipodes\"\n",
    "#                       \" using the specified tolerance;\"\n",
    "#                       \" this may cause ambiguous slerp paths\")\n",
    "\n",
    "# def _geometric_slerp(start, end, t):\n",
    "#     # create an orthogonal basis using QR decomposition\n",
    "#     basis = np.vstack([start, end])\n",
    "#     Q, R = np.linalg.qr(basis.T)\n",
    "#     signs = 2 * (np.diag(R) >= 0) - 1\n",
    "#     Q = Q.T * signs.T[:, None]\n",
    "#     R = R.T * signs.T[:, None]\n",
    "\n",
    "#     # calculate the angle between `start` and `end`\n",
    "#     c = np.dot(start, end)\n",
    "#     s = np.linalg.det(R)\n",
    "#     omega = np.arctan2(s, c)\n",
    "\n",
    "#     # interpolate\n",
    "#     start, end = Q\n",
    "#     s = np.sin(t * omega)\n",
    "#     c = np.cos(t * omega)\n",
    "#     return start * c[:, np.newaxis] + end * s[:, np.newaxis]"
   ]
  },
  {
   "cell_type": "code",
   "execution_count": null,
   "id": "3e1e327e",
   "metadata": {},
   "outputs": [],
   "source": []
  }
 ],
 "metadata": {
  "kernelspec": {
   "display_name": "Python 3 (ipykernel)",
   "language": "python",
   "name": "python3"
  }
 },
 "nbformat": 4,
 "nbformat_minor": 5
}
