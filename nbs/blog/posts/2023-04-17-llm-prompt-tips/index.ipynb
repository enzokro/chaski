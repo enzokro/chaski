{
 "cells": [
  {
   "cell_type": "code",
   "execution_count": null,
   "metadata": {},
   "outputs": [],
   "source": [
    "---\n",
    "title: \"Tips for LLM prompts\"\n",
    "author: \"enzokro\"\n",
    "date: \"04/17/2023\"\n",
    "toc: true \n",
    "badges: true\n",
    "categories: [diffusion, classifier-free guidance, deep learning]\n",
    "image: better_village.png\n",
    "jupyter: python3\n",
    "---"
   ]
  }
 ],
 "metadata": {
  "language_info": {
   "name": "python"
  },
  "orig_nbformat": 4
 },
 "nbformat": 4,
 "nbformat_minor": 2
}
