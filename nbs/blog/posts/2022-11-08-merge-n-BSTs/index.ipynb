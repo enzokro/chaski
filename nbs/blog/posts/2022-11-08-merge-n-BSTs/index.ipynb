{
 "cells": [
  {
   "cell_type": "raw",
   "id": "7839ef89",
   "metadata": {},
   "source": [
    "---\n",
    "title: \"Merging an arbitrary number of Binary Trees\"\n",
    "author: \"enzokro\"\n",
    "date: \"11/08/2022\"\n",
    "toc: true \n",
    "badges: true\n",
    "categories: [BST, algorithms, functional]\n",
    "image: merging_bts.png\n",
    "jupyter: python3\n",
    "---"
   ]
  },
  {
   "cell_type": "markdown",
   "id": "d6a4c369",
   "metadata": {},
   "source": [
    "> Using functional python tools to merge several Binary Trees together."
   ]
  },
  {
   "cell_type": "markdown",
   "id": "4df0faf2",
   "metadata": {},
   "source": [
    "# Introduction  \n",
    "\n",
    "There is a classic programming question that us to merge two Binary Trees. Borrowing the official problem description from LeetCode's [Merge Two Binary Trees](https://leetcode.com/problems/merge-two-binary-trees/):   \n",
    "<br>\n",
    "\n",
    "> You are given two binary trees root1 and root2.  \n",
    ">  \n",
    "> Imagine that when you put one of them to cover the other, some nodes of the two trees are overlapped while the others are not. You need to merge the two trees into a new binary tree. The merge rule is that if two nodes overlap, then sum node values up as the new value of the merged node. Otherwise, the NOT null node will be used as the node of the new tree.  \n",
    ">  \n",
    "> Return the merged tree.  \n",
    ">  \n",
    "> Note: The merging process must start from the root nodes of both trees.  "
   ]
  },
  {
   "cell_type": "markdown",
   "id": "b58513ca",
   "metadata": {},
   "source": [
    "## Breaking the problem down. \n",
    "\n",
    "Like many BST problems, this one naturally lends itself to a recursive solution where we consider the following situations:    \n",
    "\n",
    "1. The base case(s): when to return and start working up the recursive stack.  \n",
    "2. If we are not in a base case, what specific actions must we take?  \n",
    "3. Then, call the function on the remaining sub-problems, usually the children of the current nodes.  "
   ]
  },
  {
   "cell_type": "markdown",
   "id": "7451a960",
   "metadata": {},
   "source": [
    "# The intuition behind merging BSTs. \n",
    "\n",
    " The general intuition to solve this problem is:  \n",
    "\n",
    "1. Overlay the two trees together, starting from the root.  \n",
    "2. Then, merge the values of the root nodes.  \n",
    "3. Finally, merge both the left and and right subtrees in the same way.  \n"
   ]
  },
  {
   "cell_type": "markdown",
   "id": "4c99d4f2",
   "metadata": {},
   "source": [
    "# Merging only two BSTs"
   ]
  },
  {
   "cell_type": "markdown",
   "id": "cef4b5c4",
   "metadata": {},
   "source": [
    "Translating from the publicly available Java leetcode solution, a recursive python solution is as follows:  "
   ]
  },
  {
   "cell_type": "code",
   "execution_count": null,
   "id": "e5931d74",
   "metadata": {},
   "outputs": [],
   "source": [
    "# first import the typing helpers and define the TreeNode\n",
    "from typing import Optional, List\n",
    "\n",
    "class TreeNode:\n",
    "    def __init__(self, val=0, left=None, right=None):\n",
    "        self.val = val\n",
    "        self.left = left\n",
    "        self.right = right        "
   ]
  },
  {
   "cell_type": "markdown",
   "id": "e75ee394",
   "metadata": {},
   "source": [
    "The comments in the code map the steps to their intuitions from the previous section."
   ]
  },
  {
   "cell_type": "code",
   "execution_count": null,
   "id": "74f0190f",
   "metadata": {},
   "outputs": [],
   "source": [
    "class Solution:\n",
    "    def mergeTrees(self, t1: Optional[TreeNode], t2: Optional[TreeNode]) -> Optional[TreeNode]:\n",
    "        \n",
    "        # Base cases:\n",
    "        ## 1) The first tree is null, return the second tree\n",
    "        ## 2) The second tree is null, return the first tree\n",
    "        if (t1 is None):\n",
    "            return t2\n",
    "        if (t2 is None):\n",
    "            return t1\n",
    "        \n",
    "        # If we make it here, then there are two valid nodes we have to merge\n",
    "        \n",
    "        # Merge the nodes (add the value from the first into the second)\n",
    "        t1.val += t2.val\n",
    "        \n",
    "        # Now merge the left and right subtrees. NOTE: this is recursive call\n",
    "        t1.left = mergeTrees(t1.left, t2.left)\n",
    "        t1.right = mergeTrees(t1.right, t2.right)\n",
    "        \n",
    "        # at the end of the recursive stack, t1 will be the root of the valid, merged tree.\n",
    "        return t1"
   ]
  },
  {
   "cell_type": "markdown",
   "id": "0cd51bb6",
   "metadata": {},
   "source": [
    "In the case where a node exists in one tree but not the other, then we simply insert the value from the existing node.  \n",
    "\n",
    "If a matching, overlapped node exists in both trees, then we add their values together.  \n",
    "\n",
    "Once there are no more nodes to visit, then we have fully traversed both trees and are done.  "
   ]
  },
  {
   "cell_type": "markdown",
   "id": "fa97aed1",
   "metadata": {},
   "source": [
    "# Merging an arbitrary number of Binary Trees"
   ]
  },
  {
   "cell_type": "markdown",
   "id": "7aa1b180",
   "metadata": {},
   "source": [
    "It turns out that we can leverage some functional tools from python to make this solution more general.  \n",
    "\n",
    "Specifically, we use python's functional `map` and `lambda`, together with `getattr` and sequence expansion via `*seq`, to merge an arbitrary number of Binary Trees.  "
   ]
  },
  {
   "cell_type": "code",
   "execution_count": null,
   "id": "14f9bb02",
   "metadata": {},
   "outputs": [],
   "source": [
    "class Solution:\n",
    "    def mergeTrees(self, *args: Optional[List[TreeNode]]) -> Optional[TreeNode]:\n",
    "        \n",
    "        # Base case: all trees are empty, we have nothing to merge\n",
    "        if not any(args): return None\n",
    "        \n",
    "        # Get the values of every matched overlapping node, and sum them together.\n",
    "        vals = map(lambda r: getattr(r, 'val', 0), args)\n",
    "        node = TreeNode(sum(vals))\n",
    "        \n",
    "        \n",
    "        # Create the left child from the merged left-subtrees\n",
    "        node.left = self.mergeTrees(*map(lambda n: getattr(n, 'left', None), args))\n",
    "        \n",
    "        # Create the right child from the merged right-subtrees\n",
    "        node.right = self.mergeTrees(*map(lambda n: getattr(n, 'right', None), args))\n",
    "\n",
    "        # Return the new, merged tree        \n",
    "        return node"
   ]
  },
  {
   "cell_type": "markdown",
   "id": "e383f6ca",
   "metadata": {},
   "source": [
    "This solution is more general at the cost of more memory: we create a new `TreeNode` instead of adding to an existing node's value.  \n",
    "\n",
    "This still follows the problem constraints which talk about returning a \"new binary tree\". In our more general solution, at the end of the recursion stack `node` will be the root of this new binary tree."
   ]
  },
  {
   "cell_type": "markdown",
   "id": "c065ac05",
   "metadata": {},
   "source": [
    "# Credits  \n",
    "\n",
    "The Binary Tree image for this post is from the good folks at [Codiwan](https://www.codiwan.com/posts/tree/merge-two-binary-trees-617)."
   ]
  }
 ],
 "metadata": {
  "kernelspec": {
   "display_name": "Python 3 (ipykernel)",
   "language": "python",
   "name": "python3"
  }
 },
 "nbformat": 4,
 "nbformat_minor": 5
}
