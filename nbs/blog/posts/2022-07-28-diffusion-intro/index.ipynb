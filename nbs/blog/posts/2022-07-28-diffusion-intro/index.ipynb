{
 "cells": [
  {
   "cell_type": "raw",
   "metadata": {},
   "source": [
    "---\n",
    "title: \"Yet Another Stable Diffusion Post\"\n",
    "author: \"enzokro\"\n",
    "date: \"7/28/2022\"\n",
    "toc: true \n",
    "badges: true\n",
    "comments:\n",
    "  hypothesis: true\n",
    "categories: [deep learning, stable diffusion]\n",
    "image: dallE_tries_diffusion.png\n",
    "format: \n",
    "  html:\n",
    "    code-fold: true\n",
    "jupyter: python3\n",
    "---"
   ]
  },
  {
   "cell_type": "code",
   "execution_count": null,
   "metadata": {},
   "outputs": [],
   "source": [
    "# Placeholder"
   ]
  }
 ],
 "metadata": {
  "kernelspec": {
   "display_name": "Python 3 (ipykernel)",
   "language": "python",
   "name": "python3"
  }
 },
 "nbformat": 4,
 "nbformat_minor": 4
}
