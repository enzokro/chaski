{
 "cells": [
  {
   "cell_type": "raw",
   "metadata": {},
   "source": [
    "---\n",
    "title: \"Enzo's site\"\n",
    "image: favicon.png\n",
    "comments: false\n",
    "about:\n",
    "  template: jolla\n",
    "  links:\n",
    "    - icon: github\n",
    "      text: github\n",
    "      href: \"https://github.com/enzokro\"\n",
    "toc: false\n",
    "sidebar: false\n",
    "---"
   ]
  },
  {
   "cell_type": "markdown",
   "metadata": {},
   "source": [
    "#### Research Engineer in the Bay Area. \n",
    "#### Posts on applied ML and DSP. "
   ]
  }
 ],
 "metadata": {
  "kernelspec": {
   "display_name": "Python 3.10.6 ('base': conda)",
   "language": "python",
   "name": "python3"
  },
  "language_info": {
   "name": "python",
   "version": "3.10.6"
  },
  "vscode": {
   "interpreter": {
    "hash": "02a482fb615b0665b42e13a04415fede44e28f64e8469dc48a2840c13d562318"
   }
  }
 },
 "nbformat": 4,
 "nbformat_minor": 4
}
