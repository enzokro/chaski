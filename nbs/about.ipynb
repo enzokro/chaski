{
 "cells": [
  {
   "cell_type": "raw",
   "metadata": {},
   "source": [
    "---\n",
    "title: \"Enzo's site\"\n",
    "image: favicon.png\n",
    "comments: false\n",
    "about:\n",
    "  template: jolla\n",
    "  links:\n",
    "    - icon: github\n",
    "      text: github\n",
    "      href: \"https://github.com/enzokro\"\n",
    "toc: false\n",
    "sidebar: false\n",
    "---"
   ]
  },
  {
   "cell_type": "markdown",
   "metadata": {},
   "source": [
    "#### Research Engineer in the Bay Area. \n",
    "#### Posts on applied ML and DSP. "
   ]
  }
 ],
 "metadata": {
  "kernelspec": {
   "display_name": "Python 3.10.6 ('base': conda)",
   "language": "python",
   "name": "python3"
  }
 },
 "nbformat": 4,
 "nbformat_minor": 4
}
